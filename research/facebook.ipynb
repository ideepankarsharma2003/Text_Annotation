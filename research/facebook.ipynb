{
 "cells": [
  {
   "cell_type": "code",
   "execution_count": 5,
   "metadata": {},
   "outputs": [
    {
     "data": {
      "text/plain": [
       "SamImageSegmentationOutput(iou_scores=tensor([[[0.9057, 0.9562, 0.9669]]], grad_fn=<SliceBackward0>), pred_masks=tensor([[[[[ -3.6655,  -3.8783,  -4.1560,  ...,  -3.3017,  -3.4989,\n",
       "             -3.3515],\n",
       "           [ -4.0312,  -4.5119,  -4.4381,  ...,  -3.5222,  -3.6016,\n",
       "             -3.4926],\n",
       "           [ -3.8445,  -3.8922,  -4.3736,  ...,  -3.4776,  -3.5127,\n",
       "             -3.4534],\n",
       "           ...,\n",
       "           [ -6.0419,  -6.1655,  -6.2352,  ...,  -5.9044,  -5.5126,\n",
       "             -5.3342],\n",
       "           [ -5.5718,  -5.6173,  -5.4095,  ...,  -5.0361,  -4.9366,\n",
       "             -4.6108],\n",
       "           [ -5.6239,  -5.4793,  -5.5711,  ...,  -4.9498,  -4.7976,\n",
       "             -4.6496]],\n",
       "\n",
       "          [[-11.1519, -10.9139, -10.9961,  ..., -11.6799, -11.2970,\n",
       "            -11.2113],\n",
       "           [-11.3968, -12.4699, -11.8133,  ..., -11.8949, -11.9112,\n",
       "            -11.7817],\n",
       "           [-11.4387, -11.3840, -11.8103,  ..., -11.4216, -11.6019,\n",
       "            -11.4616],\n",
       "           ...,\n",
       "           [-12.7066, -13.2529, -12.9170,  ..., -13.9256, -13.1173,\n",
       "            -13.0700],\n",
       "           [-12.4890, -12.0835, -12.2269,  ..., -12.7504, -11.7552,\n",
       "            -11.7627],\n",
       "           [-11.9018, -12.0558, -12.6082,  ..., -12.8317, -11.7671,\n",
       "            -11.7069]],\n",
       "\n",
       "          [[-11.2461, -11.3523, -10.1497,  ..., -12.0837, -11.6238,\n",
       "            -11.8045],\n",
       "           [-10.6926, -12.9892, -11.2509,  ..., -12.0300, -12.9577,\n",
       "            -11.9271],\n",
       "           [-11.1906, -12.0581, -10.8924,  ..., -12.0209, -11.8873,\n",
       "            -11.9377],\n",
       "           ...,\n",
       "           [-12.3878, -13.4421, -12.5471,  ..., -14.4447, -13.4437,\n",
       "            -12.6303],\n",
       "           [-12.1034, -12.1715, -11.4221,  ..., -13.2288, -11.1054,\n",
       "            -12.7645],\n",
       "           [-10.5812, -11.3130, -12.2011,  ..., -12.8303, -12.1642,\n",
       "            -11.5626]]]]], grad_fn=<SliceBackward0>), vision_hidden_states=None, vision_attentions=None, mask_decoder_attentions=None)"
      ]
     },
     "execution_count": 5,
     "metadata": {},
     "output_type": "execute_result"
    }
   ],
   "source": [
    "outputs"
   ]
  },
  {
   "cell_type": "code",
   "execution_count": 7,
   "metadata": {},
   "outputs": [],
   "source": [
    "masks = processor.image_processor.post_process_masks(outputs.pred_masks.cpu(), inputs[\"original_sizes\"].cpu(), inputs[\"reshaped_input_sizes\"].cpu())\n",
    "scores = outputs.iou_scores"
   ]
  },
  {
   "cell_type": "code",
   "execution_count": 9,
   "metadata": {},
   "outputs": [
    {
     "data": {
      "text/plain": [
       "tensor([[[[False, False, False,  ..., False, False, False],\n",
       "          [False, False, False,  ..., False, False, False],\n",
       "          [False, False, False,  ..., False, False, False],\n",
       "          ...,\n",
       "          [False, False, False,  ..., False, False, False],\n",
       "          [False, False, False,  ..., False, False, False],\n",
       "          [False, False, False,  ..., False, False, False]],\n",
       "\n",
       "         [[False, False, False,  ..., False, False, False],\n",
       "          [False, False, False,  ..., False, False, False],\n",
       "          [False, False, False,  ..., False, False, False],\n",
       "          ...,\n",
       "          [False, False, False,  ..., False, False, False],\n",
       "          [False, False, False,  ..., False, False, False],\n",
       "          [False, False, False,  ..., False, False, False]],\n",
       "\n",
       "         [[False, False, False,  ..., False, False, False],\n",
       "          [False, False, False,  ..., False, False, False],\n",
       "          [False, False, False,  ..., False, False, False],\n",
       "          ...,\n",
       "          [False, False, False,  ..., False, False, False],\n",
       "          [False, False, False,  ..., False, False, False],\n",
       "          [False, False, False,  ..., False, False, False]]]])"
      ]
     },
     "execution_count": 9,
     "metadata": {},
     "output_type": "execute_result"
    }
   ],
   "source": [
    "masks"
   ]
  },
  {
   "cell_type": "code",
   "execution_count": 10,
   "metadata": {},
   "outputs": [
    {
     "data": {
      "text/plain": [
       "tensor([[[0.9057, 0.9562, 0.9669]]], grad_fn=<SliceBackward0>)"
      ]
     },
     "execution_count": 10,
     "metadata": {},
     "output_type": "execute_result"
    }
   ],
   "source": [
    "scores"
   ]
  },
  {
   "cell_type": "code",
   "execution_count": null,
   "metadata": {},
   "outputs": [],
   "source": []
  }
 ],
 "metadata": {
  "kernelspec": {
   "display_name": ".venv",
   "language": "python",
   "name": "python3"
  },
  "language_info": {
   "codemirror_mode": {
    "name": "ipython",
    "version": 3
   },
   "file_extension": ".py",
   "mimetype": "text/x-python",
   "name": "python",
   "nbconvert_exporter": "python",
   "pygments_lexer": "ipython3",
   "version": "3.12.2"
  }
 },
 "nbformat": 4,
 "nbformat_minor": 2
}
